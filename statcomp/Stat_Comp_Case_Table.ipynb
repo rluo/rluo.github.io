{
 "cells": [
  {
   "cell_type": "code",
   "execution_count": 68,
   "metadata": {
    "ExecuteTime": {
     "end_time": "2021-11-08T16:39:55.435786Z",
     "start_time": "2021-11-08T16:39:55.421Z"
    }
   },
   "outputs": [],
   "source": [
    "library(tidyverse)"
   ]
  },
  {
   "cell_type": "markdown",
   "metadata": {},
   "source": [
    "# Simulate Data"
   ]
  },
  {
   "cell_type": "code",
   "execution_count": 69,
   "metadata": {
    "ExecuteTime": {
     "end_time": "2021-11-08T16:39:55.468664Z",
     "start_time": "2021-11-08T16:39:55.444Z"
    }
   },
   "outputs": [
    {
     "data": {
      "text/html": [
       "<table>\n",
       "<caption>A data.frame: 6 × 5</caption>\n",
       "<thead>\n",
       "\t<tr><th></th><th scope=col>id</th><th scope=col>sex</th><th scope=col>age</th><th scope=col>visit</th><th scope=col>drinking</th></tr>\n",
       "\t<tr><th></th><th scope=col>&lt;int&gt;</th><th scope=col>&lt;int&gt;</th><th scope=col>&lt;dbl&gt;</th><th scope=col>&lt;dbl&gt;</th><th scope=col>&lt;int&gt;</th></tr>\n",
       "</thead>\n",
       "<tbody>\n",
       "\t<tr><th scope=row>1</th><td>1</td><td>0</td><td>25.69171</td><td>0</td><td>0</td></tr>\n",
       "\t<tr><th scope=row>2</th><td>2</td><td>1</td><td>25.38905</td><td>0</td><td>0</td></tr>\n",
       "\t<tr><th scope=row>3</th><td>3</td><td>0</td><td>24.90537</td><td>0</td><td>0</td></tr>\n",
       "\t<tr><th scope=row>4</th><td>4</td><td>1</td><td>23.05101</td><td>0</td><td>0</td></tr>\n",
       "\t<tr><th scope=row>5</th><td>5</td><td>1</td><td>24.33441</td><td>0</td><td>0</td></tr>\n",
       "\t<tr><th scope=row>6</th><td>6</td><td>0</td><td>25.01208</td><td>0</td><td>0</td></tr>\n",
       "</tbody>\n",
       "</table>\n"
      ],
      "text/latex": [
       "A data.frame: 6 × 5\n",
       "\\begin{tabular}{r|lllll}\n",
       "  & id & sex & age & visit & drinking\\\\\n",
       "  & <int> & <int> & <dbl> & <dbl> & <int>\\\\\n",
       "\\hline\n",
       "\t1 & 1 & 0 & 25.69171 & 0 & 0\\\\\n",
       "\t2 & 2 & 1 & 25.38905 & 0 & 0\\\\\n",
       "\t3 & 3 & 0 & 24.90537 & 0 & 0\\\\\n",
       "\t4 & 4 & 1 & 23.05101 & 0 & 0\\\\\n",
       "\t5 & 5 & 1 & 24.33441 & 0 & 0\\\\\n",
       "\t6 & 6 & 0 & 25.01208 & 0 & 0\\\\\n",
       "\\end{tabular}\n"
      ],
      "text/markdown": [
       "\n",
       "A data.frame: 6 × 5\n",
       "\n",
       "| <!--/--> | id &lt;int&gt; | sex &lt;int&gt; | age &lt;dbl&gt; | visit &lt;dbl&gt; | drinking &lt;int&gt; |\n",
       "|---|---|---|---|---|---|\n",
       "| 1 | 1 | 0 | 25.69171 | 0 | 0 |\n",
       "| 2 | 2 | 1 | 25.38905 | 0 | 0 |\n",
       "| 3 | 3 | 0 | 24.90537 | 0 | 0 |\n",
       "| 4 | 4 | 1 | 23.05101 | 0 | 0 |\n",
       "| 5 | 5 | 1 | 24.33441 | 0 | 0 |\n",
       "| 6 | 6 | 0 | 25.01208 | 0 | 0 |\n",
       "\n"
      ],
      "text/plain": [
       "  id sex age      visit drinking\n",
       "1 1  0   25.69171 0     0       \n",
       "2 2  1   25.38905 0     0       \n",
       "3 3  0   24.90537 0     0       \n",
       "4 4  1   23.05101 0     0       \n",
       "5 5  1   24.33441 0     0       \n",
       "6 6  0   25.01208 0     0       "
      ]
     },
     "metadata": {},
     "output_type": "display_data"
    }
   ],
   "source": [
    "n <- 1000\n",
    "set.seed(1000)\n",
    "baseline <- data.frame(id=1:n, sex=rbinom(n,1, 0.5), age=rnorm(n, 25), visit = 0, drinking=rbinom(n, 1, 0.2))\n",
    "head(baseline)"
   ]
  },
  {
   "cell_type": "code",
   "execution_count": 70,
   "metadata": {
    "ExecuteTime": {
     "end_time": "2021-11-08T16:39:55.493916Z",
     "start_time": "2021-11-08T16:39:55.446Z"
    }
   },
   "outputs": [
    {
     "data": {
      "text/html": [
       "<table>\n",
       "<caption>A data.frame: 6 × 3</caption>\n",
       "<thead>\n",
       "\t<tr><th></th><th scope=col>id</th><th scope=col>visit</th><th scope=col>drinking</th></tr>\n",
       "\t<tr><th></th><th scope=col>&lt;int&gt;</th><th scope=col>&lt;dbl&gt;</th><th scope=col>&lt;int&gt;</th></tr>\n",
       "</thead>\n",
       "<tbody>\n",
       "\t<tr><th scope=row>1</th><td>890</td><td>1</td><td>1</td></tr>\n",
       "\t<tr><th scope=row>2</th><td>211</td><td>1</td><td>0</td></tr>\n",
       "\t<tr><th scope=row>3</th><td>406</td><td>1</td><td>0</td></tr>\n",
       "\t<tr><th scope=row>4</th><td>387</td><td>1</td><td>0</td></tr>\n",
       "\t<tr><th scope=row>5</th><td> 82</td><td>1</td><td>0</td></tr>\n",
       "\t<tr><th scope=row>6</th><td>441</td><td>1</td><td>0</td></tr>\n",
       "</tbody>\n",
       "</table>\n"
      ],
      "text/latex": [
       "A data.frame: 6 × 3\n",
       "\\begin{tabular}{r|lll}\n",
       "  & id & visit & drinking\\\\\n",
       "  & <int> & <dbl> & <int>\\\\\n",
       "\\hline\n",
       "\t1 & 890 & 1 & 1\\\\\n",
       "\t2 & 211 & 1 & 0\\\\\n",
       "\t3 & 406 & 1 & 0\\\\\n",
       "\t4 & 387 & 1 & 0\\\\\n",
       "\t5 &  82 & 1 & 0\\\\\n",
       "\t6 & 441 & 1 & 0\\\\\n",
       "\\end{tabular}\n"
      ],
      "text/markdown": [
       "\n",
       "A data.frame: 6 × 3\n",
       "\n",
       "| <!--/--> | id &lt;int&gt; | visit &lt;dbl&gt; | drinking &lt;int&gt; |\n",
       "|---|---|---|---|\n",
       "| 1 | 890 | 1 | 1 |\n",
       "| 2 | 211 | 1 | 0 |\n",
       "| 3 | 406 | 1 | 0 |\n",
       "| 4 | 387 | 1 | 0 |\n",
       "| 5 |  82 | 1 | 0 |\n",
       "| 6 | 441 | 1 | 0 |\n",
       "\n"
      ],
      "text/plain": [
       "  id  visit drinking\n",
       "1 890 1     1       \n",
       "2 211 1     0       \n",
       "3 406 1     0       \n",
       "4 387 1     0       \n",
       "5  82 1     0       \n",
       "6 441 1     0       "
      ]
     },
     "metadata": {},
     "output_type": "display_data"
    }
   ],
   "source": [
    "followup <-  data.frame(id=sample.int(n, 0.8*n),  visit = 1, drinking=rbinom(n*0.8, 1, 0.2))\n",
    "head(followup)"
   ]
  },
  {
   "cell_type": "markdown",
   "metadata": {},
   "source": [
    "# Merge Data"
   ]
  },
  {
   "cell_type": "code",
   "execution_count": 71,
   "metadata": {
    "ExecuteTime": {
     "end_time": "2021-11-08T16:39:55.516588Z",
     "start_time": "2021-11-08T16:39:55.456Z"
    }
   },
   "outputs": [
    {
     "data": {
      "text/html": [
       "<table>\n",
       "<caption>A data.frame: 6 × 7</caption>\n",
       "<thead>\n",
       "\t<tr><th></th><th scope=col>id</th><th scope=col>visit.x</th><th scope=col>drinking.x</th><th scope=col>sex</th><th scope=col>age</th><th scope=col>visit.y</th><th scope=col>drinking.y</th></tr>\n",
       "\t<tr><th></th><th scope=col>&lt;int&gt;</th><th scope=col>&lt;dbl&gt;</th><th scope=col>&lt;int&gt;</th><th scope=col>&lt;int&gt;</th><th scope=col>&lt;dbl&gt;</th><th scope=col>&lt;dbl&gt;</th><th scope=col>&lt;int&gt;</th></tr>\n",
       "</thead>\n",
       "<tbody>\n",
       "\t<tr><th scope=row>1</th><td>890</td><td>1</td><td>1</td><td>0</td><td>24.00150</td><td>0</td><td>1</td></tr>\n",
       "\t<tr><th scope=row>2</th><td>211</td><td>1</td><td>0</td><td>1</td><td>24.80642</td><td>0</td><td>0</td></tr>\n",
       "\t<tr><th scope=row>3</th><td>406</td><td>1</td><td>0</td><td>1</td><td>25.02175</td><td>0</td><td>1</td></tr>\n",
       "\t<tr><th scope=row>4</th><td>387</td><td>1</td><td>0</td><td>1</td><td>26.25194</td><td>0</td><td>0</td></tr>\n",
       "\t<tr><th scope=row>5</th><td> 82</td><td>1</td><td>0</td><td>0</td><td>26.98083</td><td>0</td><td>0</td></tr>\n",
       "\t<tr><th scope=row>6</th><td>441</td><td>1</td><td>0</td><td>0</td><td>25.84911</td><td>0</td><td>0</td></tr>\n",
       "</tbody>\n",
       "</table>\n"
      ],
      "text/latex": [
       "A data.frame: 6 × 7\n",
       "\\begin{tabular}{r|lllllll}\n",
       "  & id & visit.x & drinking.x & sex & age & visit.y & drinking.y\\\\\n",
       "  & <int> & <dbl> & <int> & <int> & <dbl> & <dbl> & <int>\\\\\n",
       "\\hline\n",
       "\t1 & 890 & 1 & 1 & 0 & 24.00150 & 0 & 1\\\\\n",
       "\t2 & 211 & 1 & 0 & 1 & 24.80642 & 0 & 0\\\\\n",
       "\t3 & 406 & 1 & 0 & 1 & 25.02175 & 0 & 1\\\\\n",
       "\t4 & 387 & 1 & 0 & 1 & 26.25194 & 0 & 0\\\\\n",
       "\t5 &  82 & 1 & 0 & 0 & 26.98083 & 0 & 0\\\\\n",
       "\t6 & 441 & 1 & 0 & 0 & 25.84911 & 0 & 0\\\\\n",
       "\\end{tabular}\n"
      ],
      "text/markdown": [
       "\n",
       "A data.frame: 6 × 7\n",
       "\n",
       "| <!--/--> | id &lt;int&gt; | visit.x &lt;dbl&gt; | drinking.x &lt;int&gt; | sex &lt;int&gt; | age &lt;dbl&gt; | visit.y &lt;dbl&gt; | drinking.y &lt;int&gt; |\n",
       "|---|---|---|---|---|---|---|---|\n",
       "| 1 | 890 | 1 | 1 | 0 | 24.00150 | 0 | 1 |\n",
       "| 2 | 211 | 1 | 0 | 1 | 24.80642 | 0 | 0 |\n",
       "| 3 | 406 | 1 | 0 | 1 | 25.02175 | 0 | 1 |\n",
       "| 4 | 387 | 1 | 0 | 1 | 26.25194 | 0 | 0 |\n",
       "| 5 |  82 | 1 | 0 | 0 | 26.98083 | 0 | 0 |\n",
       "| 6 | 441 | 1 | 0 | 0 | 25.84911 | 0 | 0 |\n",
       "\n"
      ],
      "text/plain": [
       "  id  visit.x drinking.x sex age      visit.y drinking.y\n",
       "1 890 1       1          0   24.00150 0       1         \n",
       "2 211 1       0          1   24.80642 0       0         \n",
       "3 406 1       0          1   25.02175 0       1         \n",
       "4 387 1       0          1   26.25194 0       0         \n",
       "5  82 1       0          0   26.98083 0       0         \n",
       "6 441 1       0          0   25.84911 0       0         "
      ]
     },
     "metadata": {},
     "output_type": "display_data"
    }
   ],
   "source": [
    "followup_merge <-  followup %>% inner_join(baseline, by='id')\n",
    "head(followup_merge)"
   ]
  },
  {
   "cell_type": "code",
   "execution_count": 72,
   "metadata": {
    "ExecuteTime": {
     "end_time": "2021-11-08T16:39:55.548538Z",
     "start_time": "2021-11-08T16:39:55.458Z"
    }
   },
   "outputs": [
    {
     "data": {
      "text/html": [
       "<table>\n",
       "<caption>A data.frame: 6 × 5</caption>\n",
       "<thead>\n",
       "\t<tr><th></th><th scope=col>id</th><th scope=col>sex</th><th scope=col>age</th><th scope=col>visit</th><th scope=col>drinking</th></tr>\n",
       "\t<tr><th></th><th scope=col>&lt;int&gt;</th><th scope=col>&lt;int&gt;</th><th scope=col>&lt;dbl&gt;</th><th scope=col>&lt;dbl&gt;</th><th scope=col>&lt;int&gt;</th></tr>\n",
       "</thead>\n",
       "<tbody>\n",
       "\t<tr><th scope=row>1</th><td>890</td><td>0</td><td>24.00150</td><td>1</td><td>1</td></tr>\n",
       "\t<tr><th scope=row>2</th><td>211</td><td>1</td><td>24.80642</td><td>1</td><td>0</td></tr>\n",
       "\t<tr><th scope=row>3</th><td>406</td><td>1</td><td>25.02175</td><td>1</td><td>0</td></tr>\n",
       "\t<tr><th scope=row>4</th><td>387</td><td>1</td><td>26.25194</td><td>1</td><td>0</td></tr>\n",
       "\t<tr><th scope=row>5</th><td> 82</td><td>0</td><td>26.98083</td><td>1</td><td>0</td></tr>\n",
       "\t<tr><th scope=row>6</th><td>441</td><td>0</td><td>25.84911</td><td>1</td><td>0</td></tr>\n",
       "</tbody>\n",
       "</table>\n"
      ],
      "text/latex": [
       "A data.frame: 6 × 5\n",
       "\\begin{tabular}{r|lllll}\n",
       "  & id & sex & age & visit & drinking\\\\\n",
       "  & <int> & <int> & <dbl> & <dbl> & <int>\\\\\n",
       "\\hline\n",
       "\t1 & 890 & 0 & 24.00150 & 1 & 1\\\\\n",
       "\t2 & 211 & 1 & 24.80642 & 1 & 0\\\\\n",
       "\t3 & 406 & 1 & 25.02175 & 1 & 0\\\\\n",
       "\t4 & 387 & 1 & 26.25194 & 1 & 0\\\\\n",
       "\t5 &  82 & 0 & 26.98083 & 1 & 0\\\\\n",
       "\t6 & 441 & 0 & 25.84911 & 1 & 0\\\\\n",
       "\\end{tabular}\n"
      ],
      "text/markdown": [
       "\n",
       "A data.frame: 6 × 5\n",
       "\n",
       "| <!--/--> | id &lt;int&gt; | sex &lt;int&gt; | age &lt;dbl&gt; | visit &lt;dbl&gt; | drinking &lt;int&gt; |\n",
       "|---|---|---|---|---|---|\n",
       "| 1 | 890 | 0 | 24.00150 | 1 | 1 |\n",
       "| 2 | 211 | 1 | 24.80642 | 1 | 0 |\n",
       "| 3 | 406 | 1 | 25.02175 | 1 | 0 |\n",
       "| 4 | 387 | 1 | 26.25194 | 1 | 0 |\n",
       "| 5 |  82 | 0 | 26.98083 | 1 | 0 |\n",
       "| 6 | 441 | 0 | 25.84911 | 1 | 0 |\n",
       "\n"
      ],
      "text/plain": [
       "  id  sex age      visit drinking\n",
       "1 890 0   24.00150 1     1       \n",
       "2 211 1   24.80642 1     0       \n",
       "3 406 1   25.02175 1     0       \n",
       "4 387 1   26.25194 1     0       \n",
       "5  82 0   26.98083 1     0       \n",
       "6 441 0   25.84911 1     0       "
      ]
     },
     "metadata": {},
     "output_type": "display_data"
    }
   ],
   "source": [
    "followup_merge <-  followup %>% inner_join(baseline %>% select(-visit, -drinking), by='id') %>%\n",
    "                    select(id, sex, age, everything())\n",
    "head(followup_merge)"
   ]
  },
  {
   "cell_type": "code",
   "execution_count": 73,
   "metadata": {
    "ExecuteTime": {
     "end_time": "2021-11-08T16:39:55.576052Z",
     "start_time": "2021-11-08T16:39:55.459Z"
    }
   },
   "outputs": [
    {
     "data": {
      "text/html": [
       "<style>\n",
       ".list-inline {list-style: none; margin:0; padding: 0}\n",
       ".list-inline>li {display: inline-block}\n",
       ".list-inline>li:not(:last-child)::after {content: \"\\00b7\"; padding: 0 .5ex}\n",
       "</style>\n",
       "<ol class=list-inline><li>1800</li><li>5</li></ol>\n"
      ],
      "text/latex": [
       "\\begin{enumerate*}\n",
       "\\item 1800\n",
       "\\item 5\n",
       "\\end{enumerate*}\n"
      ],
      "text/markdown": [
       "1. 1800\n",
       "2. 5\n",
       "\n",
       "\n"
      ],
      "text/plain": [
       "[1] 1800    5"
      ]
     },
     "metadata": {},
     "output_type": "display_data"
    },
    {
     "data": {
      "text/html": [
       "<table>\n",
       "<caption>A data.frame: 6 × 5</caption>\n",
       "<thead>\n",
       "\t<tr><th></th><th scope=col>id</th><th scope=col>sex</th><th scope=col>age</th><th scope=col>visit</th><th scope=col>drinking</th></tr>\n",
       "\t<tr><th></th><th scope=col>&lt;int&gt;</th><th scope=col>&lt;int&gt;</th><th scope=col>&lt;dbl&gt;</th><th scope=col>&lt;dbl&gt;</th><th scope=col>&lt;int&gt;</th></tr>\n",
       "</thead>\n",
       "<tbody>\n",
       "\t<tr><th scope=row>1</th><td>1</td><td>0</td><td>25.69171</td><td>0</td><td>0</td></tr>\n",
       "\t<tr><th scope=row>2</th><td>2</td><td>1</td><td>25.38905</td><td>0</td><td>0</td></tr>\n",
       "\t<tr><th scope=row>3</th><td>3</td><td>0</td><td>24.90537</td><td>0</td><td>0</td></tr>\n",
       "\t<tr><th scope=row>4</th><td>4</td><td>1</td><td>23.05101</td><td>0</td><td>0</td></tr>\n",
       "\t<tr><th scope=row>5</th><td>5</td><td>1</td><td>24.33441</td><td>0</td><td>0</td></tr>\n",
       "\t<tr><th scope=row>6</th><td>6</td><td>0</td><td>25.01208</td><td>0</td><td>0</td></tr>\n",
       "</tbody>\n",
       "</table>\n"
      ],
      "text/latex": [
       "A data.frame: 6 × 5\n",
       "\\begin{tabular}{r|lllll}\n",
       "  & id & sex & age & visit & drinking\\\\\n",
       "  & <int> & <int> & <dbl> & <dbl> & <int>\\\\\n",
       "\\hline\n",
       "\t1 & 1 & 0 & 25.69171 & 0 & 0\\\\\n",
       "\t2 & 2 & 1 & 25.38905 & 0 & 0\\\\\n",
       "\t3 & 3 & 0 & 24.90537 & 0 & 0\\\\\n",
       "\t4 & 4 & 1 & 23.05101 & 0 & 0\\\\\n",
       "\t5 & 5 & 1 & 24.33441 & 0 & 0\\\\\n",
       "\t6 & 6 & 0 & 25.01208 & 0 & 0\\\\\n",
       "\\end{tabular}\n"
      ],
      "text/markdown": [
       "\n",
       "A data.frame: 6 × 5\n",
       "\n",
       "| <!--/--> | id &lt;int&gt; | sex &lt;int&gt; | age &lt;dbl&gt; | visit &lt;dbl&gt; | drinking &lt;int&gt; |\n",
       "|---|---|---|---|---|---|\n",
       "| 1 | 1 | 0 | 25.69171 | 0 | 0 |\n",
       "| 2 | 2 | 1 | 25.38905 | 0 | 0 |\n",
       "| 3 | 3 | 0 | 24.90537 | 0 | 0 |\n",
       "| 4 | 4 | 1 | 23.05101 | 0 | 0 |\n",
       "| 5 | 5 | 1 | 24.33441 | 0 | 0 |\n",
       "| 6 | 6 | 0 | 25.01208 | 0 | 0 |\n",
       "\n"
      ],
      "text/plain": [
       "  id sex age      visit drinking\n",
       "1 1  0   25.69171 0     0       \n",
       "2 2  1   25.38905 0     0       \n",
       "3 3  0   24.90537 0     0       \n",
       "4 4  1   23.05101 0     0       \n",
       "5 5  1   24.33441 0     0       \n",
       "6 6  0   25.01208 0     0       "
      ]
     },
     "metadata": {},
     "output_type": "display_data"
    }
   ],
   "source": [
    "long_df <- rbind(baseline, followup_merge)\n",
    "dim(long_df)\n",
    "head(long_df)"
   ]
  },
  {
   "cell_type": "markdown",
   "metadata": {},
   "source": [
    "# Mutate"
   ]
  },
  {
   "cell_type": "code",
   "execution_count": 74,
   "metadata": {
    "ExecuteTime": {
     "end_time": "2021-11-08T16:39:55.596112Z",
     "start_time": "2021-11-08T16:39:55.470Z"
    }
   },
   "outputs": [],
   "source": [
    "never_drinking <- long_df %>% group_by(id) %>% summarize(never_drinking = 1-prod(drinking))"
   ]
  },
  {
   "cell_type": "code",
   "execution_count": 75,
   "metadata": {
    "ExecuteTime": {
     "end_time": "2021-11-08T16:39:55.626026Z",
     "start_time": "2021-11-08T16:39:55.472Z"
    }
   },
   "outputs": [
    {
     "data": {
      "text/html": [
       "<table>\n",
       "<caption>A data.frame: 6 × 6</caption>\n",
       "<thead>\n",
       "\t<tr><th></th><th scope=col>id</th><th scope=col>sex</th><th scope=col>age</th><th scope=col>visit</th><th scope=col>drinking</th><th scope=col>never_drinking</th></tr>\n",
       "\t<tr><th></th><th scope=col>&lt;int&gt;</th><th scope=col>&lt;int&gt;</th><th scope=col>&lt;dbl&gt;</th><th scope=col>&lt;dbl&gt;</th><th scope=col>&lt;int&gt;</th><th scope=col>&lt;dbl&gt;</th></tr>\n",
       "</thead>\n",
       "<tbody>\n",
       "\t<tr><th scope=row>1</th><td>1</td><td>0</td><td>25.69171</td><td>0</td><td>0</td><td>1</td></tr>\n",
       "\t<tr><th scope=row>2</th><td>2</td><td>1</td><td>25.38905</td><td>0</td><td>0</td><td>1</td></tr>\n",
       "\t<tr><th scope=row>3</th><td>3</td><td>0</td><td>24.90537</td><td>0</td><td>0</td><td>1</td></tr>\n",
       "\t<tr><th scope=row>4</th><td>4</td><td>1</td><td>23.05101</td><td>0</td><td>0</td><td>1</td></tr>\n",
       "\t<tr><th scope=row>5</th><td>5</td><td>1</td><td>24.33441</td><td>0</td><td>0</td><td>1</td></tr>\n",
       "\t<tr><th scope=row>6</th><td>6</td><td>0</td><td>25.01208</td><td>0</td><td>0</td><td>1</td></tr>\n",
       "</tbody>\n",
       "</table>\n"
      ],
      "text/latex": [
       "A data.frame: 6 × 6\n",
       "\\begin{tabular}{r|llllll}\n",
       "  & id & sex & age & visit & drinking & never\\_drinking\\\\\n",
       "  & <int> & <int> & <dbl> & <dbl> & <int> & <dbl>\\\\\n",
       "\\hline\n",
       "\t1 & 1 & 0 & 25.69171 & 0 & 0 & 1\\\\\n",
       "\t2 & 2 & 1 & 25.38905 & 0 & 0 & 1\\\\\n",
       "\t3 & 3 & 0 & 24.90537 & 0 & 0 & 1\\\\\n",
       "\t4 & 4 & 1 & 23.05101 & 0 & 0 & 1\\\\\n",
       "\t5 & 5 & 1 & 24.33441 & 0 & 0 & 1\\\\\n",
       "\t6 & 6 & 0 & 25.01208 & 0 & 0 & 1\\\\\n",
       "\\end{tabular}\n"
      ],
      "text/markdown": [
       "\n",
       "A data.frame: 6 × 6\n",
       "\n",
       "| <!--/--> | id &lt;int&gt; | sex &lt;int&gt; | age &lt;dbl&gt; | visit &lt;dbl&gt; | drinking &lt;int&gt; | never_drinking &lt;dbl&gt; |\n",
       "|---|---|---|---|---|---|---|\n",
       "| 1 | 1 | 0 | 25.69171 | 0 | 0 | 1 |\n",
       "| 2 | 2 | 1 | 25.38905 | 0 | 0 | 1 |\n",
       "| 3 | 3 | 0 | 24.90537 | 0 | 0 | 1 |\n",
       "| 4 | 4 | 1 | 23.05101 | 0 | 0 | 1 |\n",
       "| 5 | 5 | 1 | 24.33441 | 0 | 0 | 1 |\n",
       "| 6 | 6 | 0 | 25.01208 | 0 | 0 | 1 |\n",
       "\n"
      ],
      "text/plain": [
       "  id sex age      visit drinking never_drinking\n",
       "1 1  0   25.69171 0     0        1             \n",
       "2 2  1   25.38905 0     0        1             \n",
       "3 3  0   24.90537 0     0        1             \n",
       "4 4  1   23.05101 0     0        1             \n",
       "5 5  1   24.33441 0     0        1             \n",
       "6 6  0   25.01208 0     0        1             "
      ]
     },
     "metadata": {},
     "output_type": "display_data"
    }
   ],
   "source": [
    "long_df <- long_df %>% left_join(never_drinking, by = 'id')\n",
    "head(long_df)"
   ]
  },
  {
   "cell_type": "markdown",
   "metadata": {},
   "source": [
    "# Factor"
   ]
  },
  {
   "cell_type": "code",
   "execution_count": 76,
   "metadata": {
    "ExecuteTime": {
     "end_time": "2021-11-08T16:39:55.654831Z",
     "start_time": "2021-11-08T16:39:55.483Z"
    }
   },
   "outputs": [
    {
     "data": {
      "text/html": [
       "<table>\n",
       "<caption>A data.frame: 6 × 7</caption>\n",
       "<thead>\n",
       "\t<tr><th></th><th scope=col>id</th><th scope=col>sex</th><th scope=col>age</th><th scope=col>visit</th><th scope=col>drinking</th><th scope=col>never_drinking</th><th scope=col>neverdrinker</th></tr>\n",
       "\t<tr><th></th><th scope=col>&lt;int&gt;</th><th scope=col>&lt;int&gt;</th><th scope=col>&lt;dbl&gt;</th><th scope=col>&lt;dbl&gt;</th><th scope=col>&lt;int&gt;</th><th scope=col>&lt;fct&gt;</th><th scope=col>&lt;fct&gt;</th></tr>\n",
       "</thead>\n",
       "<tbody>\n",
       "\t<tr><th scope=row>1</th><td>1</td><td>0</td><td>25.69171</td><td>0</td><td>0</td><td>1</td><td>Never drinker</td></tr>\n",
       "\t<tr><th scope=row>2</th><td>2</td><td>1</td><td>25.38905</td><td>0</td><td>0</td><td>1</td><td>Never drinker</td></tr>\n",
       "\t<tr><th scope=row>3</th><td>3</td><td>0</td><td>24.90537</td><td>0</td><td>0</td><td>1</td><td>Never drinker</td></tr>\n",
       "\t<tr><th scope=row>4</th><td>4</td><td>1</td><td>23.05101</td><td>0</td><td>0</td><td>1</td><td>Never drinker</td></tr>\n",
       "\t<tr><th scope=row>5</th><td>5</td><td>1</td><td>24.33441</td><td>0</td><td>0</td><td>1</td><td>Never drinker</td></tr>\n",
       "\t<tr><th scope=row>6</th><td>6</td><td>0</td><td>25.01208</td><td>0</td><td>0</td><td>1</td><td>Never drinker</td></tr>\n",
       "</tbody>\n",
       "</table>\n"
      ],
      "text/latex": [
       "A data.frame: 6 × 7\n",
       "\\begin{tabular}{r|lllllll}\n",
       "  & id & sex & age & visit & drinking & never\\_drinking & neverdrinker\\\\\n",
       "  & <int> & <int> & <dbl> & <dbl> & <int> & <fct> & <fct>\\\\\n",
       "\\hline\n",
       "\t1 & 1 & 0 & 25.69171 & 0 & 0 & 1 & Never drinker\\\\\n",
       "\t2 & 2 & 1 & 25.38905 & 0 & 0 & 1 & Never drinker\\\\\n",
       "\t3 & 3 & 0 & 24.90537 & 0 & 0 & 1 & Never drinker\\\\\n",
       "\t4 & 4 & 1 & 23.05101 & 0 & 0 & 1 & Never drinker\\\\\n",
       "\t5 & 5 & 1 & 24.33441 & 0 & 0 & 1 & Never drinker\\\\\n",
       "\t6 & 6 & 0 & 25.01208 & 0 & 0 & 1 & Never drinker\\\\\n",
       "\\end{tabular}\n"
      ],
      "text/markdown": [
       "\n",
       "A data.frame: 6 × 7\n",
       "\n",
       "| <!--/--> | id &lt;int&gt; | sex &lt;int&gt; | age &lt;dbl&gt; | visit &lt;dbl&gt; | drinking &lt;int&gt; | never_drinking &lt;fct&gt; | neverdrinker &lt;fct&gt; |\n",
       "|---|---|---|---|---|---|---|---|\n",
       "| 1 | 1 | 0 | 25.69171 | 0 | 0 | 1 | Never drinker |\n",
       "| 2 | 2 | 1 | 25.38905 | 0 | 0 | 1 | Never drinker |\n",
       "| 3 | 3 | 0 | 24.90537 | 0 | 0 | 1 | Never drinker |\n",
       "| 4 | 4 | 1 | 23.05101 | 0 | 0 | 1 | Never drinker |\n",
       "| 5 | 5 | 1 | 24.33441 | 0 | 0 | 1 | Never drinker |\n",
       "| 6 | 6 | 0 | 25.01208 | 0 | 0 | 1 | Never drinker |\n",
       "\n"
      ],
      "text/plain": [
       "  id sex age      visit drinking never_drinking neverdrinker \n",
       "1 1  0   25.69171 0     0        1              Never drinker\n",
       "2 2  1   25.38905 0     0        1              Never drinker\n",
       "3 3  0   24.90537 0     0        1              Never drinker\n",
       "4 4  1   23.05101 0     0        1              Never drinker\n",
       "5 5  1   24.33441 0     0        1              Never drinker\n",
       "6 6  0   25.01208 0     0        1              Never drinker"
      ]
     },
     "metadata": {},
     "output_type": "display_data"
    }
   ],
   "source": [
    "long_df <- long_df %>%  mutate(never_drinking = as.factor(as.character(never_drinking)), \n",
    "                    neverdrinker = fct_recode(never_drinking,   \"Never drinker\" = \"1\",  \"Drinker\" = \"0\" ) )\n",
    "head(long_df)"
   ]
  },
  {
   "cell_type": "markdown",
   "metadata": {},
   "source": [
    "# Table"
   ]
  },
  {
   "cell_type": "code",
   "execution_count": 77,
   "metadata": {
    "ExecuteTime": {
     "end_time": "2021-11-08T16:39:55.668350Z",
     "start_time": "2021-11-08T16:39:55.494Z"
    }
   },
   "outputs": [],
   "source": [
    "library(qwraps2)"
   ]
  },
  {
   "cell_type": "code",
   "execution_count": 78,
   "metadata": {
    "ExecuteTime": {
     "end_time": "2021-11-08T16:39:55.683169Z",
     "start_time": "2021-11-08T16:39:55.496Z"
    }
   },
   "outputs": [],
   "source": [
    "demo_tab <- list(Demographics = list(Age = ~qwraps2::mean_sd(age)), Baseline_drinking = list(Drinking_baseline = ~qwraps2::n_perc(drinking) \n",
    "    ))\n",
    "\n",
    "\n",
    "demo_tab[['Drinker classification']] <- list( Never_drinker = ~qwraps2::n_perc(neverdrinker == \"Never drinker\"),    Drinker = ~qwraps2::n_perc(neverdrinker == \"Drinker\")  ) \n"
   ]
  },
  {
   "cell_type": "code",
   "execution_count": 79,
   "metadata": {
    "ExecuteTime": {
     "end_time": "2021-11-08T16:39:55.711436Z",
     "start_time": "2021-11-08T16:39:55.497Z"
    }
   },
   "outputs": [],
   "source": [
    "table_df = long_df %>% filter(visit == 0) %>% drop_na()\n",
    "\n",
    "options(qwraps2_markup = \"markdown\")\n",
    "render_tab <- cbind( qwraps2::summary_table(table_df, \n",
    "    demo_tab),   qwraps2::summary_table(table_df %>% group_by(sex), demo_tab)  )"
   ]
  },
  {
   "cell_type": "code",
   "execution_count": 80,
   "metadata": {
    "ExecuteTime": {
     "end_time": "2021-11-08T16:39:55.730018Z",
     "start_time": "2021-11-08T16:39:55.498Z"
    }
   },
   "outputs": [
    {
     "data": {
      "text/html": [
       "<table>\n",
       "<caption>A qwraps2_summary_table: 4 × 3 of type chr</caption>\n",
       "<thead>\n",
       "\t<tr><th></th><th scope=col>table_df (N = 1,000)</th><th scope=col>sex: 0 (N = 488)</th><th scope=col>sex: 1 (N = 512)</th></tr>\n",
       "</thead>\n",
       "<tbody>\n",
       "\t<tr><th scope=row>Age</th><td>24.99 &amp;plusmn; 1.00</td><td>25.02 &amp;plusmn; 0.97</td><td>24.97 &amp;plusmn; 1.02</td></tr>\n",
       "\t<tr><th scope=row>Drinking_baseline</th><td>186 (18.60%)       </td><td>90 (18.44%)        </td><td>96 (18.75%)        </td></tr>\n",
       "\t<tr><th scope=row>Never_drinker</th><td>931 (93.10%)       </td><td>455 (93.24%)       </td><td>476 (92.97%)       </td></tr>\n",
       "\t<tr><th scope=row>Drinker</th><td>69 (6.90%)         </td><td>33 (6.76%)         </td><td>36 (7.03%)         </td></tr>\n",
       "</tbody>\n",
       "</table>\n"
      ],
      "text/latex": [
       "A qwraps2\\_summary\\_table: 4 × 3 of type chr\n",
       "\\begin{tabular}{r|lll}\n",
       "  & table\\_df (N = 1,000) & sex: 0 (N = 488) & sex: 1 (N = 512)\\\\\n",
       "\\hline\n",
       "\tAge & 24.99 \\&plusmn; 1.00 & 25.02 \\&plusmn; 0.97 & 24.97 \\&plusmn; 1.02\\\\\n",
       "\tDrinking\\_baseline & 186 (18.60\\%)        & 90 (18.44\\%)         & 96 (18.75\\%)        \\\\\n",
       "\tNever\\_drinker & 931 (93.10\\%)        & 455 (93.24\\%)        & 476 (92.97\\%)       \\\\\n",
       "\tDrinker & 69 (6.90\\%)          & 33 (6.76\\%)          & 36 (7.03\\%)         \\\\\n",
       "\\end{tabular}\n"
      ],
      "text/markdown": [
       "\n",
       "A qwraps2_summary_table: 4 × 3 of type chr\n",
       "\n",
       "| <!--/--> | table_df (N = 1,000) | sex: 0 (N = 488) | sex: 1 (N = 512) |\n",
       "|---|---|---|---|\n",
       "| Age | 24.99 &amp;plusmn; 1.00 | 25.02 &amp;plusmn; 0.97 | 24.97 &amp;plusmn; 1.02 |\n",
       "| Drinking_baseline | 186 (18.60%)        | 90 (18.44%)         | 96 (18.75%)         |\n",
       "| Never_drinker | 931 (93.10%)        | 455 (93.24%)        | 476 (92.97%)        |\n",
       "| Drinker | 69 (6.90%)          | 33 (6.76%)          | 36 (7.03%)          |\n",
       "\n"
      ],
      "text/plain": [
       "                  table_df (N = 1,000) sex: 0 (N = 488)    sex: 1 (N = 512)   \n",
       "Age               24.99 &plusmn; 1.00  25.02 &plusmn; 0.97 24.97 &plusmn; 1.02\n",
       "Drinking_baseline 186 (18.60%)         90 (18.44%)         96 (18.75%)        \n",
       "Never_drinker     931 (93.10%)         455 (93.24%)        476 (92.97%)       \n",
       "Drinker           69 (6.90%)           33 (6.76%)          36 (7.03%)         "
      ]
     },
     "metadata": {},
     "output_type": "display_data"
    }
   ],
   "source": [
    "render_tab"
   ]
  },
  {
   "cell_type": "code",
   "execution_count": 81,
   "metadata": {
    "ExecuteTime": {
     "end_time": "2021-11-08T16:39:55.793128Z",
     "start_time": "2021-11-08T16:39:55.500Z"
    }
   },
   "outputs": [],
   "source": [
    "table_df = long_df %>% filter(visit == 0) %>% drop_na() %>% \n",
    "mutate(sex = as.factor(as.character(sex)),   sex = fct_recode(sex, \"Female\" = \"1\", \"Male\" = \"0\")   )\n",
    "\n",
    "options(qwraps2_markup = \"markdown\")\n",
    "render_tab <- cbind( qwraps2::summary_table(table_df, \n",
    "    demo_tab),   qwraps2::summary_table(table_df %>% group_by(sex), demo_tab)  )"
   ]
  },
  {
   "cell_type": "code",
   "execution_count": 82,
   "metadata": {
    "ExecuteTime": {
     "end_time": "2021-11-08T16:39:55.826525Z",
     "start_time": "2021-11-08T16:39:55.501Z"
    }
   },
   "outputs": [
    {
     "data": {
      "text/html": [
       "<table>\n",
       "<caption>A qwraps2_summary_table: 4 × 3 of type chr</caption>\n",
       "<thead>\n",
       "\t<tr><th></th><th scope=col>table_df (N = 1,000)</th><th scope=col>sex: Male (N = 488)</th><th scope=col>sex: Female (N = 512)</th></tr>\n",
       "</thead>\n",
       "<tbody>\n",
       "\t<tr><th scope=row>Age</th><td>24.99 &amp;plusmn; 1.00</td><td>25.02 &amp;plusmn; 0.97</td><td>24.97 &amp;plusmn; 1.02</td></tr>\n",
       "\t<tr><th scope=row>Drinking_baseline</th><td>186 (18.60%)       </td><td>90 (18.44%)        </td><td>96 (18.75%)        </td></tr>\n",
       "\t<tr><th scope=row>Never_drinker</th><td>931 (93.10%)       </td><td>455 (93.24%)       </td><td>476 (92.97%)       </td></tr>\n",
       "\t<tr><th scope=row>Drinker</th><td>69 (6.90%)         </td><td>33 (6.76%)         </td><td>36 (7.03%)         </td></tr>\n",
       "</tbody>\n",
       "</table>\n"
      ],
      "text/latex": [
       "A qwraps2\\_summary\\_table: 4 × 3 of type chr\n",
       "\\begin{tabular}{r|lll}\n",
       "  & table\\_df (N = 1,000) & sex: Male (N = 488) & sex: Female (N = 512)\\\\\n",
       "\\hline\n",
       "\tAge & 24.99 \\&plusmn; 1.00 & 25.02 \\&plusmn; 0.97 & 24.97 \\&plusmn; 1.02\\\\\n",
       "\tDrinking\\_baseline & 186 (18.60\\%)        & 90 (18.44\\%)         & 96 (18.75\\%)        \\\\\n",
       "\tNever\\_drinker & 931 (93.10\\%)        & 455 (93.24\\%)        & 476 (92.97\\%)       \\\\\n",
       "\tDrinker & 69 (6.90\\%)          & 33 (6.76\\%)          & 36 (7.03\\%)         \\\\\n",
       "\\end{tabular}\n"
      ],
      "text/markdown": [
       "\n",
       "A qwraps2_summary_table: 4 × 3 of type chr\n",
       "\n",
       "| <!--/--> | table_df (N = 1,000) | sex: Male (N = 488) | sex: Female (N = 512) |\n",
       "|---|---|---|---|\n",
       "| Age | 24.99 &amp;plusmn; 1.00 | 25.02 &amp;plusmn; 0.97 | 24.97 &amp;plusmn; 1.02 |\n",
       "| Drinking_baseline | 186 (18.60%)        | 90 (18.44%)         | 96 (18.75%)         |\n",
       "| Never_drinker | 931 (93.10%)        | 455 (93.24%)        | 476 (92.97%)        |\n",
       "| Drinker | 69 (6.90%)          | 33 (6.76%)          | 36 (7.03%)          |\n",
       "\n"
      ],
      "text/plain": [
       "                  table_df (N = 1,000) sex: Male (N = 488)\n",
       "Age               24.99 &plusmn; 1.00  25.02 &plusmn; 0.97\n",
       "Drinking_baseline 186 (18.60%)         90 (18.44%)        \n",
       "Never_drinker     931 (93.10%)         455 (93.24%)       \n",
       "Drinker           69 (6.90%)           33 (6.76%)         \n",
       "                  sex: Female (N = 512)\n",
       "Age               24.97 &plusmn; 1.02  \n",
       "Drinking_baseline 96 (18.75%)          \n",
       "Never_drinker     476 (92.97%)         \n",
       "Drinker           36 (7.03%)           "
      ]
     },
     "metadata": {},
     "output_type": "display_data"
    }
   ],
   "source": [
    "render_tab"
   ]
  },
  {
   "cell_type": "code",
   "execution_count": 83,
   "metadata": {
    "ExecuteTime": {
     "end_time": "2021-11-08T16:39:55.951823Z",
     "start_time": "2021-11-08T16:39:55.502Z"
    }
   },
   "outputs": [],
   "source": [
    "qwraps2docx <- function(fname, render_tab) { \n",
    "    ## new way\n",
    "    capture.output( print(render_tab), file = paste0(fname, '.md'))\n",
    "    system( paste0(\"pandoc \", fname, \".md\",  \"  -o  \", fname, \".docx\") )\n",
    "}\n",
    "\n",
    "\n",
    "qwraps2docx(\"stat_comp_test\", render_tab)\n"
   ]
  }
 ],
 "metadata": {
  "kernelspec": {
   "display_name": "R",
   "language": "R",
   "name": "ir"
  },
  "language_info": {
   "codemirror_mode": "r",
   "file_extension": ".r",
   "mimetype": "text/x-r-source",
   "name": "R",
   "pygments_lexer": "r",
   "version": "3.5.2"
  },
  "toc": {
   "base_numbering": 1,
   "nav_menu": {},
   "number_sections": true,
   "sideBar": true,
   "skip_h1_title": false,
   "title_cell": "Table of Contents",
   "title_sidebar": "Contents",
   "toc_cell": false,
   "toc_position": {},
   "toc_section_display": true,
   "toc_window_display": false
  }
 },
 "nbformat": 4,
 "nbformat_minor": 2
}
